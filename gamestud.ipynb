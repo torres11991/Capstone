{
 "cells": [
  {
   "attachments": {},
   "cell_type": "markdown",
   "metadata": {},
   "source": [
    "### Importing our data via cvs file for review of content. ###"
   ]
  },
  {
   "cell_type": "code",
   "execution_count": 3,
   "metadata": {},
   "outputs": [
    {
     "name": "stdout",
     "output_type": "stream",
     "text": [
      "       S. No.    Timestamp  GAD1  GAD2  GAD3  GAD4  GAD5  GAD6  GAD7  \\\n",
      "0           1  42052.00437     0     0     0     0     1     0     0   \n",
      "1           2  42052.00680     1     2     2     2     0     1     0   \n",
      "2           3  42052.03860     0     2     2     0     0     3     1   \n",
      "3           4  42052.06804     0     0     0     0     0     0     0   \n",
      "4           5  42052.08948     2     1     2     2     2     3     2   \n",
      "...       ...          ...   ...   ...   ...   ...   ...   ...   ...   \n",
      "13459   14246  42057.75678     1     0     0     1     0     1     1   \n",
      "13460   14247  42057.81185     3     3     3     3     2     3     3   \n",
      "13461   14248  42058.16964     0     0     0     0     0     0     0   \n",
      "13462   14249  42058.24420     3     2     1     3     0     1     3   \n",
      "13463   14250  42058.36375     1     1     0     0     0     0     0   \n",
      "\n",
      "                       GADE  ...  Birthplace    Residence  Reference  \\\n",
      "0      Not difficult at all  ...         USA          USA     Reddit   \n",
      "1        Somewhat difficult  ...         USA          USA     Reddit   \n",
      "2      Not difficult at all  ...     Germany      Germany     Reddit   \n",
      "3      Not difficult at all  ...         USA          USA     Reddit   \n",
      "4            Very difficult  ...         USA  South Korea     Reddit   \n",
      "...                     ...  ...         ...          ...        ...   \n",
      "13459  Not difficult at all  ...      France       France     Reddit   \n",
      "13460   Extremely difficult  ...         USA          USA     Reddit   \n",
      "13461  Not difficult at all  ...      Norway       Norway     Reddit   \n",
      "13462    Somewhat difficult  ...      Canada       Canada     Reddit   \n",
      "13463    Somewhat difficult  ...      Canada       Canada     Reddit   \n",
      "\n",
      "                                               Playstyle  accept GAD_T SWL_T  \\\n",
      "0                                           Singleplayer  Accept     1    23   \n",
      "1                  Multiplayer - online - with strangers  Accept     8    16   \n",
      "2                                           Singleplayer  Accept     8    17   \n",
      "3      Multiplayer - online - with online acquaintanc...  Accept     0    17   \n",
      "4                  Multiplayer - online - with strangers  Accept    14    14   \n",
      "...                                                  ...     ...   ...   ...   \n",
      "13459              Multiplayer - online - with strangers  Accept     4    28   \n",
      "13460              Multiplayer - online - with strangers  Accept    20    23   \n",
      "13461      Multiplayer - online - with real life friends  Accept     0    32   \n",
      "13462                                       Singleplayer  Accept    13    16   \n",
      "13463              Multiplayer - online - with strangers  Accept     2    25   \n",
      "\n",
      "       SPIN_T Residence_ISO3 Birthplace_ISO3  \n",
      "0         5.0            USA             USA  \n",
      "1        33.0            USA             USA  \n",
      "2        31.0            DEU             DEU  \n",
      "3        11.0            USA             USA  \n",
      "4        13.0            KOR             USA  \n",
      "...       ...            ...             ...  \n",
      "13459     7.0            FRA             FRA  \n",
      "13460    25.0            USA             USA  \n",
      "13461    10.0            NOR             NOR  \n",
      "13462    32.0            CAN             CAN  \n",
      "13463    14.0            CAN             CAN  \n",
      "\n",
      "[13464 rows x 55 columns]\n"
     ]
    }
   ],
   "source": [
    "import pandas as pd\n",
    "\n",
    "df = pd.read_excel('C:/Users/torre/Code/SavvyCoders/dap-curriculum/Capstone/GamingStudy.xlsx')\n",
    "print(df)"
   ]
  },
  {
   "attachments": {},
   "cell_type": "markdown",
   "metadata": {},
   "source": [
    "### Distinguishing all columns listed within file for overview of information stored. ###"
   ]
  },
  {
   "cell_type": "code",
   "execution_count": 9,
   "metadata": {},
   "outputs": [
    {
     "name": "stdout",
     "output_type": "stream",
     "text": [
      "Index(['S. No.', 'Timestamp', 'GAD1', 'GAD2', 'GAD3', 'GAD4', 'GAD5', 'GAD6',\n",
      "       'GAD7', 'GADE', 'SWL1', 'SWL2', 'SWL3', 'SWL4', 'SWL5', 'Game',\n",
      "       'Platform', 'Hours', 'earnings', 'whyplay', 'League', 'highestleague',\n",
      "       'streams', 'SPIN1', 'SPIN2', 'SPIN3', 'SPIN4', 'SPIN5', 'SPIN6',\n",
      "       'SPIN7', 'SPIN8', 'SPIN9', 'SPIN10', 'SPIN11', 'SPIN12', 'SPIN13',\n",
      "       'SPIN14', 'SPIN15', 'SPIN16', 'SPIN17', 'Narcissism', 'Gender', 'Age',\n",
      "       'Work', 'Degree', 'Birthplace', 'Residence', 'Reference', 'Playstyle',\n",
      "       'accept', 'GAD_T', 'SWL_T', 'SPIN_T', 'Residence_ISO3',\n",
      "       'Birthplace_ISO3'],\n",
      "      dtype='object')\n"
     ]
    }
   ],
   "source": [
    "print(df.columns)"
   ]
  },
  {
   "attachments": {},
   "cell_type": "markdown",
   "metadata": {},
   "source": [
    "### Distinguishing the total number of rows which we now know is 13,463 rows as well as ensuring the data remains consistent. ###"
   ]
  },
  {
   "cell_type": "code",
   "execution_count": 5,
   "metadata": {},
   "outputs": [
    {
     "name": "stdout",
     "output_type": "stream",
     "text": [
      "       S. No.    Timestamp  GAD1  GAD2  GAD3  GAD4  GAD5  GAD6  GAD7  \\\n",
      "13459   14246  42057.75678     1     0     0     1     0     1     1   \n",
      "13460   14247  42057.81185     3     3     3     3     2     3     3   \n",
      "13461   14248  42058.16964     0     0     0     0     0     0     0   \n",
      "13462   14249  42058.24420     3     2     1     3     0     1     3   \n",
      "13463   14250  42058.36375     1     1     0     0     0     0     0   \n",
      "\n",
      "                       GADE  ...  Birthplace  Residence  Reference  \\\n",
      "13459  Not difficult at all  ...      France     France     Reddit   \n",
      "13460   Extremely difficult  ...         USA        USA     Reddit   \n",
      "13461  Not difficult at all  ...      Norway     Norway     Reddit   \n",
      "13462    Somewhat difficult  ...      Canada     Canada     Reddit   \n",
      "13463    Somewhat difficult  ...      Canada     Canada     Reddit   \n",
      "\n",
      "                                           Playstyle  accept GAD_T SWL_T  \\\n",
      "13459          Multiplayer - online - with strangers  Accept     4    28   \n",
      "13460          Multiplayer - online - with strangers  Accept    20    23   \n",
      "13461  Multiplayer - online - with real life friends  Accept     0    32   \n",
      "13462                                   Singleplayer  Accept    13    16   \n",
      "13463          Multiplayer - online - with strangers  Accept     2    25   \n",
      "\n",
      "       SPIN_T Residence_ISO3 Birthplace_ISO3  \n",
      "13459     7.0            FRA             FRA  \n",
      "13460    25.0            USA             USA  \n",
      "13461    10.0            NOR             NOR  \n",
      "13462    32.0            CAN             CAN  \n",
      "13463    14.0            CAN             CAN  \n",
      "\n",
      "[5 rows x 55 columns]\n"
     ]
    }
   ],
   "source": [
    "# Distinguishing the total number of rows which we now know is 13,463 rows.\n",
    "print(df.tail())\n",
    "#df[['Gender', 'Age','Residence','Hours']]"
   ]
  },
  {
   "attachments": {},
   "cell_type": "markdown",
   "metadata": {},
   "source": [
    "### Recognizing the most relevant columns for capstone. ###"
   ]
  },
  {
   "cell_type": "code",
   "execution_count": 8,
   "metadata": {},
   "outputs": [
    {
     "data": {
      "text/html": [
       "<div>\n",
       "<style scoped>\n",
       "    .dataframe tbody tr th:only-of-type {\n",
       "        vertical-align: middle;\n",
       "    }\n",
       "\n",
       "    .dataframe tbody tr th {\n",
       "        vertical-align: top;\n",
       "    }\n",
       "\n",
       "    .dataframe thead th {\n",
       "        text-align: right;\n",
       "    }\n",
       "</style>\n",
       "<table border=\"1\" class=\"dataframe\">\n",
       "  <thead>\n",
       "    <tr style=\"text-align: right;\">\n",
       "      <th></th>\n",
       "      <th>Gender</th>\n",
       "      <th>Age</th>\n",
       "      <th>Hours</th>\n",
       "      <th>Residence</th>\n",
       "    </tr>\n",
       "  </thead>\n",
       "  <tbody>\n",
       "    <tr>\n",
       "      <th>0</th>\n",
       "      <td>Male</td>\n",
       "      <td>25</td>\n",
       "      <td>15.0</td>\n",
       "      <td>USA</td>\n",
       "    </tr>\n",
       "    <tr>\n",
       "      <th>1</th>\n",
       "      <td>Male</td>\n",
       "      <td>41</td>\n",
       "      <td>8.0</td>\n",
       "      <td>USA</td>\n",
       "    </tr>\n",
       "    <tr>\n",
       "      <th>2</th>\n",
       "      <td>Female</td>\n",
       "      <td>32</td>\n",
       "      <td>0.0</td>\n",
       "      <td>Germany</td>\n",
       "    </tr>\n",
       "    <tr>\n",
       "      <th>3</th>\n",
       "      <td>Male</td>\n",
       "      <td>28</td>\n",
       "      <td>20.0</td>\n",
       "      <td>USA</td>\n",
       "    </tr>\n",
       "    <tr>\n",
       "      <th>4</th>\n",
       "      <td>Male</td>\n",
       "      <td>19</td>\n",
       "      <td>20.0</td>\n",
       "      <td>South Korea</td>\n",
       "    </tr>\n",
       "    <tr>\n",
       "      <th>...</th>\n",
       "      <td>...</td>\n",
       "      <td>...</td>\n",
       "      <td>...</td>\n",
       "      <td>...</td>\n",
       "    </tr>\n",
       "    <tr>\n",
       "      <th>13459</th>\n",
       "      <td>Male</td>\n",
       "      <td>22</td>\n",
       "      <td>40.0</td>\n",
       "      <td>France</td>\n",
       "    </tr>\n",
       "    <tr>\n",
       "      <th>13460</th>\n",
       "      <td>Female</td>\n",
       "      <td>20</td>\n",
       "      <td>20.0</td>\n",
       "      <td>USA</td>\n",
       "    </tr>\n",
       "    <tr>\n",
       "      <th>13461</th>\n",
       "      <td>Male</td>\n",
       "      <td>19</td>\n",
       "      <td>20.0</td>\n",
       "      <td>Norway</td>\n",
       "    </tr>\n",
       "    <tr>\n",
       "      <th>13462</th>\n",
       "      <td>Female</td>\n",
       "      <td>18</td>\n",
       "      <td>5.0</td>\n",
       "      <td>Canada</td>\n",
       "    </tr>\n",
       "    <tr>\n",
       "      <th>13463</th>\n",
       "      <td>Male</td>\n",
       "      <td>19</td>\n",
       "      <td>15.0</td>\n",
       "      <td>Canada</td>\n",
       "    </tr>\n",
       "  </tbody>\n",
       "</table>\n",
       "<p>13464 rows × 4 columns</p>\n",
       "</div>"
      ],
      "text/plain": [
       "       Gender  Age  Hours    Residence\n",
       "0        Male   25   15.0          USA\n",
       "1        Male   41    8.0          USA\n",
       "2      Female   32    0.0      Germany\n",
       "3        Male   28   20.0          USA\n",
       "4        Male   19   20.0  South Korea\n",
       "...       ...  ...    ...          ...\n",
       "13459    Male   22   40.0       France\n",
       "13460  Female   20   20.0          USA\n",
       "13461    Male   19   20.0       Norway\n",
       "13462  Female   18    5.0       Canada\n",
       "13463    Male   19   15.0       Canada\n",
       "\n",
       "[13464 rows x 4 columns]"
      ]
     },
     "execution_count": 8,
     "metadata": {},
     "output_type": "execute_result"
    }
   ],
   "source": [
    "top_info = df[['Gender', 'Age', 'Hours', 'Residence']]"
   ]
  },
  {
   "attachments": {},
   "cell_type": "markdown",
   "metadata": {},
   "source": [
    "### Distinguishing the tops performers per dataset by the amount of hours. ###"
   ]
  },
  {
   "cell_type": "code",
   "execution_count": 48,
   "metadata": {},
   "outputs": [
    {
     "name": "stdout",
     "output_type": "stream",
     "text": [
      "Total hours for \n",
      "USA: 93259.0, \n",
      "Germany: 30753.0, \n",
      "UK: 24508.0\n"
     ]
    }
   ],
   "source": [
    "grouped = df.groupby('Residence')['Hours'].sum()\n",
    "selected_country = 'USA'\n",
    "selected_country1 = 'Germany'\n",
    "selected_country2 = 'UK'\n",
    "selected_hours = grouped.loc[selected_country]\n",
    "selected_hours1 = grouped.loc[selected_country1]\n",
    "selected_hours2 = grouped.loc[selected_country2]\n",
    "print(f\"Total hours for \\n{selected_country}: {selected_hours}, \\n{selected_country1}: {selected_hours1}, \\n{selected_country2}: {selected_hours2}\")"
   ]
  },
  {
   "attachments": {},
   "cell_type": "markdown",
   "metadata": {},
   "source": [
    "### Creating a visualization of the top performers. ###"
   ]
  },
  {
   "cell_type": "code",
   "execution_count": 51,
   "metadata": {},
   "outputs": [
    {
     "data": {
      "image/png": "[encoded data removed]",
      "text/plain": [
       "<Figure size 640x480 with 1 Axes>"
      ]
     },
     "metadata": {},
     "output_type": "display_data"
    }
   ],
   "source": [
    "import matplotlib.pyplot as plt\n",
    "# Top three countries with the most hours devoted to gaming\n",
    "\n",
    "hours = {'USA': 93259.0, 'Germany': 30753.0, 'UK': 24508.0}\n",
    "plt.bar(hours.keys(), hours.values())\n",
    "plt.title('Total Hours/Week by Country')\n",
    "plt.xlabel('Country')\n",
    "plt.ylabel('Total Hours')\n",
    "plt.show()\n",
    "\n"
   ]
  },
  {
   "attachments": {},
   "cell_type": "markdown",
   "metadata": {},
   "source": [
    "### The games referenced ###"
   ]
  },
  {
   "cell_type": "code",
   "execution_count": 75,
   "metadata": {},
   "outputs": [
    {
     "data": {
      "text/plain": [
       "0                   Skyrim\n",
       "1                    Other\n",
       "2                    Other\n",
       "3                    Other\n",
       "4                    Other\n",
       "               ...        \n",
       "13459                Other\n",
       "13460    League of Legends\n",
       "13461          Starcraft 2\n",
       "13462                Other\n",
       "13463          Starcraft 2\n",
       "Name: Game, Length: 13464, dtype: object"
      ]
     },
     "execution_count": 75,
     "metadata": {},
     "output_type": "execute_result"
    }
   ],
   "source": [
    "df.['Game']"
   ]
  },
  {
   "attachments": {},
   "cell_type": "markdown",
   "metadata": {},
   "source": [
    "### Askewed marker of the data ###"
   ]
  },
  {
   "cell_type": "code",
   "execution_count": 80,
   "metadata": {},
   "outputs": [
    {
     "name": "stdout",
     "output_type": "stream",
     "text": [
      "['Counter Strike' 'Destiny' 'Diablo 3' 'Guild Wars 2' 'Hearthstone'\n",
      " 'Heroes of the Storm' 'League of Legends' 'Other' 'Skyrim' 'Starcraft 2'\n",
      " 'World of Warcraft']\n"
     ]
    }
   ],
   "source": [
    "# Very limited number of games used in data survey\n",
    "few = df['Game'].unique()\n",
    "few.sort()\n",
    "print(few)"
   ]
  },
  {
   "attachments": {},
   "cell_type": "markdown",
   "metadata": {},
   "source": [
    "### All countries in the dataset ###"
   ]
  },
  {
   "cell_type": "code",
   "execution_count": 4,
   "metadata": {},
   "outputs": [
    {
     "name": "stdout",
     "output_type": "stream",
     "text": [
      "['Albania' 'Algeria' 'Argentina' 'Australia' 'Austria' 'Bahrain'\n",
      " 'Bangladesh' 'Belarus' 'Belgium' 'Belize' 'Bolivia'\n",
      " 'Bosnia and Herzegovina' 'Brazil' 'Brunei' 'Bulgaria' 'Canada' 'Chile'\n",
      " 'China' 'Colombia' 'Costa Rica' 'Croatia' 'Cyprus' 'Czech Republic'\n",
      " 'Denmark' 'Dominican Republic' 'Ecuador' 'Egypt' 'El Salvador' 'Estonia'\n",
      " 'Faroe Islands' 'Fiji' 'Finland' 'France' 'Georgia' 'Germany'\n",
      " 'Gibraltar ' 'Greece' 'Grenada' 'Guadeloupe' 'Guatemala' 'Honduras'\n",
      " 'Hong Kong' 'Hungary' 'Iceland' 'India' 'Indonesia' 'Ireland' 'Israel'\n",
      " 'Italy' 'Jamaica' 'Japan' 'Jordan' 'Kazakhstan' 'Kuwait' 'Latvia'\n",
      " 'Lebanon' 'Liechtenstein' 'Lithuania' 'Luxembourg' 'Macedonia' 'Malaysia'\n",
      " 'Malta' 'Mexico' 'Moldova' 'Mongolia' 'Montenegro' 'Morocco' 'Namibia'\n",
      " 'Netherlands' 'New Zealand ' 'Nicaragua' 'Norway' 'Pakistan' 'Palestine'\n",
      " 'Panama' 'Peru' 'Philippines' 'Poland' 'Portugal' 'Puerto Rico' 'Qatar'\n",
      " 'Republic of Kosovo' 'Romania' 'Russia' 'Saudi Arabia' 'Serbia'\n",
      " 'Singapore' 'Slovakia' 'Slovenia' 'South Africa' 'South Korea' 'Spain'\n",
      " 'St Vincent' 'Sweden' 'Switzerland' 'Syria' 'Taiwan' 'Thailand'\n",
      " 'Trinidad & Tobago' 'Tunisia' 'Turkey' 'UAE' 'UK' 'USA' 'Ukraine'\n",
      " 'Unknown' 'Uruguay' 'Venezuela' 'Vietnam']\n"
     ]
    }
   ],
   "source": [
    "country = df['Residence'].unique()\n",
    "country.sort()\n",
    "print(country)"
   ]
  },
  {
   "cell_type": "code",
   "execution_count": 5,
   "metadata": {},
   "outputs": [
    {
     "name": "stdout",
     "output_type": "stream",
     "text": [
      "109\n"
     ]
    }
   ],
   "source": [
    "print(len(country))"
   ]
  },
  {
   "attachments": {},
   "cell_type": "markdown",
   "metadata": {},
   "source": [
    "                                              NOTES "
   ]
  },
  {
   "attachments": {},
   "cell_type": "markdown",
   "metadata": {},
   "source": [
    "### iloc = Integer Location -- Using 'iloc' to show row(s) ###"
   ]
  },
  {
   "cell_type": "code",
   "execution_count": 19,
   "metadata": {},
   "outputs": [
    {
     "name": "stdout",
     "output_type": "stream",
     "text": [
      "   S. No.    Timestamp  GAD1  GAD2  GAD3  GAD4  GAD5  GAD6  GAD7  \\\n",
      "0       1  42052.00437     0     0     0     0     1     0     0   \n",
      "1       2  42052.00680     1     2     2     2     0     1     0   \n",
      "\n",
      "                   GADE  ...  Birthplace  Residence  Reference  \\\n",
      "0  Not difficult at all  ...         USA        USA     Reddit   \n",
      "1    Somewhat difficult  ...         USA        USA     Reddit   \n",
      "\n",
      "                               Playstyle  accept GAD_T SWL_T  SPIN_T  \\\n",
      "0                           Singleplayer  Accept     1    23     5.0   \n",
      "1  Multiplayer - online - with strangers  Accept     8    16    33.0   \n",
      "\n",
      "  Residence_ISO3 Birthplace_ISO3  \n",
      "0            USA             USA  \n",
      "1            USA             USA  \n",
      "\n",
      "[2 rows x 55 columns]\n"
     ]
    }
   ],
   "source": [
    "print(df.iloc[0:2])"
   ]
  },
  {
   "attachments": {},
   "cell_type": "markdown",
   "metadata": {},
   "source": [
    "### Using iloc to find a specific cell in table. iloc[Row,Column] ###"
   ]
  },
  {
   "cell_type": "code",
   "execution_count": 21,
   "metadata": {},
   "outputs": [
    {
     "name": "stdout",
     "output_type": "stream",
     "text": [
      "42052.00437\n"
     ]
    }
   ],
   "source": [
    "print(df.iloc[0,1])"
   ]
  }
 ],
 "metadata": {
  "kernelspec": {
   "display_name": "Python 3",
   "language": "python",
   "name": "python3"
  },
  "language_info": {
   "codemirror_mode": {
    "name": "ipython",
    "version": 3
   },
   "file_extension": ".py",
   "mimetype": "text/x-python",
   "name": "python",
   "nbconvert_exporter": "python",
   "pygments_lexer": "ipython3",
   "version": "3.11.2"
  },
  "orig_nbformat": 4
 },
 "nbformat": 4,
 "nbformat_minor": 2
}
